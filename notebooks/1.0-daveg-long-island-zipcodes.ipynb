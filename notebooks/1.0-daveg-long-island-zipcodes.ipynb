{
 "cells": [
  {
   "attachments": {},
   "cell_type": "markdown",
   "metadata": {},
   "source": [
    "# The Goal\n",
    "\n",
    "I want to look at individual contributions to political campaigns just prior to the 2020 presidential election made by people on Long Island. Money is interesting, because there's a reason that we say \"put your money where your mouth is\". \n",
    "\n",
    "There's also, as we'll see, a lot you can learn from the data on its own. It contains things like Occupation and Employer that are just interesting in their own right. We could use it, for instance, to find employers and contacts that we might be interested in. Here's an example record: \n",
    "\n",
    "| Field           | Value                          |\n",
    "|:----------------|:-------------------------------|\n",
    "| CMTE_ID         | C00401224                      |\n",
    "| AMNDT_IND       | N                              |\n",
    "| RPT_TP          | MY                             |\n",
    "| TRANSACTION_PGI |                                |\n",
    "| IMAGE_NUM       | 201907299155126104             |\n",
    "| TRANSACTION_TP  | 24T                            |\n",
    "| ENTITY_TP       | IND                            |\n",
    "| NAME            | LEVINE, ELIOT                  |\n",
    "| CITY            | HUNTINGTON                     |\n",
    "| STATE           | NY                             |\n",
    "| ZIP_CODE        | 11743                          |\n",
    "| EMPLOYER        | SELF                           |\n",
    "| OCCUPATION      | LAWYER                         |\n",
    "| TRANSACTION_DT  | 01092019                       |\n",
    "| TRANSACTION_AMT | 25                             |\n",
    "| OTHER_ID        | C00000935                      |\n",
    "| TRAN_ID         | SA11AI_144839311               |\n",
    "| FILE_NUM        | 1344765                        |\n",
    "| MEMO_CD         |                                |\n",
    "| MEMO_TEXT       | EARMARKED FOR DCCC (C00000935) |\n",
    "| SUB_ID          | 4082820191120772033            |\n",
    "| postalcode      | 11743                          |\n",
    "\n",
    "\n",
    "## The Problem\n",
    "\n",
    "The files for 2020 are large - 9GB uncompressed, 18GB compressed. Some large percentage of this data is not really useful for my purpose, and I have to figure out a way to keep only what I need. Filtering on NY is possible, but as I know already and found out even more so as part of this little project, NY is really, really big and very politically active. So, we want to restrict even within NY, to Long Island. But, how should we do that? \n",
    "\n",
    "We don't want to use the CITY data because one person's Bellmore is another person's North Bellmore (that is, there's really only one if you don't live there!). Also, NY is big enough to have two towns with the same name in different counties (Tuckahoe, NY for example!). \n",
    "\n",
    "Zip codes are more reliable indicators, but then we face a different problem - how do we know which zip codes are on Long Island? \n",
    "\n",
    "## The Gameplan\n",
    "\n",
    "- Get a list of zip codes that are contained within Long Island (defined as Nassau and Suffolk counties).\n",
    "- Filter the FEC data using our list of zip codes.\n",
    "- Analyze the Long Island FEC data. \n",
    "\n",
    "We start with a list of Zip Codes for the entire US, downloaded from the USPS. We'll geocode this list of zip codes using the open source Nominatim geocoder, and use polygons for Nassau and Suffolk counties to retrieve only the zip codes we need. \n",
    "\n"
   ]
  },
  {
   "attachments": {},
   "cell_type": "markdown",
   "metadata": {},
   "source": [
    "## Geocoding\n",
    "\n",
    "Geocoding is the process of transforming an address or other geographic information entered by a user into geographical coordinates. We do it so often nowadays that we don't even think about what a wonderful thing it is! Every time we type an address into Google Maps to get directions, we are using a geocoder. \n",
    "\n",
    "Geocoding is also a computationally expensive process, and we have a large number of zip codes (just over 2000 in NY state) that we want to geocode. We'll do this cheaply by using Nominatim, which is the geocoder used by OpenStreetMaps. Building and installing Nominatim locally is an involved process, but we can sidestep it and just use Nominatim in a Docker container. We can follow the instructions here to build and run a Docker instance of Nominatim: \n",
    "\n",
    "https://www.linkedin.com/pulse/geocoding-geopy-your-own-nominatim-server-chonghua-yin/?trk=related_artice_Geocoding%20with%20GeoPy%20and%20Your%20Own%20Nominatim%20Server_article-card_title\n",
    "\n",
    "We could interact with this instance directly using http requests, but we'll use geopy instead. This library allows us to switch geocoders based on the purpose we have in mind, and also allows us to implement rate limiters if the geocoding service requires it.  \n"
   ]
  },
  {
   "cell_type": "code",
   "execution_count": 4,
   "metadata": {},
   "outputs": [],
   "source": [
    "from geopy.geocoders import Nominatim\n",
    "geocoder = Nominatim(domain=\"localhost:8080\", scheme=\"http\")"
   ]
  },
  {
   "attachments": {},
   "cell_type": "markdown",
   "metadata": {},
   "source": [
    "We test it by geocoding the North Bellmore Library!"
   ]
  },
  {
   "cell_type": "code",
   "execution_count": 5,
   "metadata": {},
   "outputs": [
    {
     "data": {
      "text/plain": [
       "Location(Public Library, 1551, Newbridge Road, North Bellmore, Town of Hempstead, Nassau County, 11710, United States, (40.6831165, -73.53970382629029, 0.0))"
      ]
     },
     "execution_count": 5,
     "metadata": {},
     "output_type": "execute_result"
    }
   ],
   "source": [
    "geocoder.geocode(\"North Bellmore Library\")"
   ]
  },
  {
   "attachments": {},
   "cell_type": "markdown",
   "metadata": {},
   "source": [
    "## Processing Long Island Zip Codes\n",
    "\n",
    "We have a list of zip codes provided by the United States Postal Service, for the entire country. "
   ]
  },
  {
   "cell_type": "code",
   "execution_count": 6,
   "metadata": {},
   "outputs": [],
   "source": [
    "import pandas as pd\n",
    "zip_codes_df = pd.read_excel(\"../references/ZIP_Locale_Detail.xls\", sheet_name=0)"
   ]
  },
  {
   "attachments": {},
   "cell_type": "markdown",
   "metadata": {},
   "source": [
    "We can filter on PHYSICAL STATE to get only the zip codes in NY. "
   ]
  },
  {
   "cell_type": "code",
   "execution_count": 7,
   "metadata": {},
   "outputs": [],
   "source": [
    "ny_zip_codes_df = zip_codes_df[zip_codes_df[\"PHYSICAL STATE\"]==\"NY\"].copy()"
   ]
  },
  {
   "attachments": {},
   "cell_type": "markdown",
   "metadata": {},
   "source": [
    "Amusingly, there is one zip code that is physically in NY but serviced as part of Connecticut. This is Fisher's Island, which is in the Sound but whose ferry service is from Connecticut. The more you know!"
   ]
  },
  {
   "cell_type": "code",
   "execution_count": 8,
   "metadata": {},
   "outputs": [
    {
     "data": {
      "text/plain": [
       "DISTRICT NAME\n",
       "NEW YORK 3     1756\n",
       "NEW YORK 2      309\n",
       "NEW YORK 1      208\n",
       "CONNECTICUT       1\n",
       "Name: count, dtype: int64"
      ]
     },
     "execution_count": 8,
     "metadata": {},
     "output_type": "execute_result"
    }
   ],
   "source": [
    "ny_zip_codes_df[\"DISTRICT NAME\"].value_counts()"
   ]
  },
  {
   "attachments": {},
   "cell_type": "markdown",
   "metadata": {},
   "source": [
    "## Shapefiles and GeoPandas \n",
    "\n",
    "We are interested primarily in Nassau and Suffolk counties. Happily, NYS has the boundaries of those counties available to us in Shapefile format. Shapefiles are a data format originally created by ESRI, makers of ArcGIS software. It caught on as a popular format for exchanging spatial data. Many other formats are available now - GeoJSON is particularly popular now - but Shapefiles are everywhere, particularly for government data. New York State maintains a GIS clearinghouse with all kinds of useful assets, including polygon representations of all its counties. We use this file to select the spatial definitions for Nassau and Suffolk counties. \n",
    "\n",
    "We also use the GeoPandas library, which lets us turn the shapefiles into Pandas dataframes with a special Geometry column that we can use in spatial operations. "
   ]
  },
  {
   "cell_type": "code",
   "execution_count": 9,
   "metadata": {},
   "outputs": [],
   "source": [
    "import geopandas as gpd\n",
    "counties_gdf = gpd.read_file(\"../references/shapefiles/Counties.shp\")"
   ]
  },
  {
   "attachments": {},
   "cell_type": "markdown",
   "metadata": {},
   "source": [
    "Also happily, the names are spelled the way we expect. We use GeoPandas to project the county polygons into WGS84, a system that uses latitude and longitude. We need to use the same coordinate system for the counties and the zipcodes we will work with below. "
   ]
  },
  {
   "cell_type": "code",
   "execution_count": 10,
   "metadata": {},
   "outputs": [
    {
     "data": {
      "text/html": [
       "<div>\n",
       "<style scoped>\n",
       "    .dataframe tbody tr th:only-of-type {\n",
       "        vertical-align: middle;\n",
       "    }\n",
       "\n",
       "    .dataframe tbody tr th {\n",
       "        vertical-align: top;\n",
       "    }\n",
       "\n",
       "    .dataframe thead th {\n",
       "        text-align: right;\n",
       "    }\n",
       "</style>\n",
       "<table border=\"1\" class=\"dataframe\">\n",
       "  <thead>\n",
       "    <tr style=\"text-align: right;\">\n",
       "      <th></th>\n",
       "      <th>NAME</th>\n",
       "      <th>ABBREV</th>\n",
       "      <th>GNIS_ID</th>\n",
       "      <th>FIPS_CODE</th>\n",
       "      <th>SWIS</th>\n",
       "      <th>NYSP_ZONE</th>\n",
       "      <th>POP1990</th>\n",
       "      <th>POP2000</th>\n",
       "      <th>POP2010</th>\n",
       "      <th>POP2020</th>\n",
       "      <th>DOS_LL</th>\n",
       "      <th>DOSLL_DATE</th>\n",
       "      <th>NYC</th>\n",
       "      <th>CALC_SQ_MI</th>\n",
       "      <th>DATEMOD</th>\n",
       "      <th>Shape_Leng</th>\n",
       "      <th>Shape_Area</th>\n",
       "      <th>geometry</th>\n",
       "    </tr>\n",
       "  </thead>\n",
       "  <tbody>\n",
       "    <tr>\n",
       "      <th>29</th>\n",
       "      <td>Nassau</td>\n",
       "      <td>NASS</td>\n",
       "      <td>974128</td>\n",
       "      <td>36059</td>\n",
       "      <td>280000</td>\n",
       "      <td>Long Island</td>\n",
       "      <td>1287348</td>\n",
       "      <td>1334544</td>\n",
       "      <td>1339532</td>\n",
       "      <td>1395774</td>\n",
       "      <td>NaN</td>\n",
       "      <td>NaN</td>\n",
       "      <td>N</td>\n",
       "      <td>446.637468</td>\n",
       "      <td>2018-04-12</td>\n",
       "      <td>168031.844843</td>\n",
       "      <td>1.156786e+09</td>\n",
       "      <td>POLYGON ((-73.42898 40.97791, -73.42934 40.940...</td>\n",
       "    </tr>\n",
       "    <tr>\n",
       "      <th>51</th>\n",
       "      <td>Suffolk</td>\n",
       "      <td>SUFF</td>\n",
       "      <td>974149</td>\n",
       "      <td>36103</td>\n",
       "      <td>470000</td>\n",
       "      <td>Long Island</td>\n",
       "      <td>1321864</td>\n",
       "      <td>1419369</td>\n",
       "      <td>1493350</td>\n",
       "      <td>1525920</td>\n",
       "      <td>NaN</td>\n",
       "      <td>NaN</td>\n",
       "      <td>N</td>\n",
       "      <td>2372.634185</td>\n",
       "      <td>NaN</td>\n",
       "      <td>385044.837960</td>\n",
       "      <td>6.145094e+09</td>\n",
       "      <td>POLYGON ((-72.13717 40.90804, -72.15988 40.899...</td>\n",
       "    </tr>\n",
       "  </tbody>\n",
       "</table>\n",
       "</div>"
      ],
      "text/plain": [
       "       NAME ABBREV GNIS_ID FIPS_CODE    SWIS    NYSP_ZONE  POP1990  POP2000   \n",
       "29   Nassau   NASS  974128     36059  280000  Long Island  1287348  1334544  \\\n",
       "51  Suffolk   SUFF  974149     36103  470000  Long Island  1321864  1419369   \n",
       "\n",
       "    POP2010  POP2020  DOS_LL  DOSLL_DATE NYC   CALC_SQ_MI     DATEMOD   \n",
       "29  1339532  1395774     NaN         NaN   N   446.637468  2018-04-12  \\\n",
       "51  1493350  1525920     NaN         NaN   N  2372.634185         NaN   \n",
       "\n",
       "       Shape_Leng    Shape_Area   \n",
       "29  168031.844843  1.156786e+09  \\\n",
       "51  385044.837960  6.145094e+09   \n",
       "\n",
       "                                             geometry  \n",
       "29  POLYGON ((-73.42898 40.97791, -73.42934 40.940...  \n",
       "51  POLYGON ((-72.13717 40.90804, -72.15988 40.899...  "
      ]
     },
     "execution_count": 10,
     "metadata": {},
     "output_type": "execute_result"
    }
   ],
   "source": [
    "long_island_gdf = counties_gdf[counties_gdf.NAME.isin([\"Nassau\",\"Suffolk\"])].copy()\n",
    "long_island_gdf = long_island_gdf.to_crs(4326)\n",
    "long_island_gdf"
   ]
  },
  {
   "attachments": {},
   "cell_type": "markdown",
   "metadata": {},
   "source": [
    "As mentioned above, geocoding is expensive and we don't want to do it unnecessarily. There is duplication in the file we received from the USPS. For instance, there are two post offices in Bellmore, one north and one south, but Bellmore only has one zip code (11710). There's no point to calling the same operation twice.  "
   ]
  },
  {
   "cell_type": "code",
   "execution_count": 11,
   "metadata": {},
   "outputs": [
    {
     "data": {
      "text/html": [
       "<div>\n",
       "<style scoped>\n",
       "    .dataframe tbody tr th:only-of-type {\n",
       "        vertical-align: middle;\n",
       "    }\n",
       "\n",
       "    .dataframe tbody tr th {\n",
       "        vertical-align: top;\n",
       "    }\n",
       "\n",
       "    .dataframe thead th {\n",
       "        text-align: right;\n",
       "    }\n",
       "</style>\n",
       "<table border=\"1\" class=\"dataframe\">\n",
       "  <thead>\n",
       "    <tr style=\"text-align: right;\">\n",
       "      <th></th>\n",
       "      <th>AREA NAME</th>\n",
       "      <th>AREA CODE</th>\n",
       "      <th>DISTRICT NAME</th>\n",
       "      <th>DISTRICT NO</th>\n",
       "      <th>DELIVERY ZIPCODE</th>\n",
       "      <th>LOCALE NAME</th>\n",
       "      <th>PHYSICAL DELV ADDR</th>\n",
       "      <th>PHYSICAL CITY</th>\n",
       "      <th>PHYSICAL STATE</th>\n",
       "      <th>PHYSICAL ZIP</th>\n",
       "      <th>PHYSICAL ZIP 4</th>\n",
       "    </tr>\n",
       "  </thead>\n",
       "  <tbody>\n",
       "    <tr>\n",
       "      <th>4290</th>\n",
       "      <td>ATLANTIC</td>\n",
       "      <td>4B</td>\n",
       "      <td>NEW YORK 2</td>\n",
       "      <td>117</td>\n",
       "      <td>11710</td>\n",
       "      <td>BELLMORE</td>\n",
       "      <td>2611 MERRICK RD</td>\n",
       "      <td>BELLMORE</td>\n",
       "      <td>NY</td>\n",
       "      <td>11710</td>\n",
       "      <td>5752.0</td>\n",
       "    </tr>\n",
       "    <tr>\n",
       "      <th>4291</th>\n",
       "      <td>ATLANTIC</td>\n",
       "      <td>4B</td>\n",
       "      <td>NEW YORK 2</td>\n",
       "      <td>117</td>\n",
       "      <td>11710</td>\n",
       "      <td>NORTH BELLMORE</td>\n",
       "      <td>2465 JERUSALEM AVE</td>\n",
       "      <td>NORTH BELLMORE</td>\n",
       "      <td>NY</td>\n",
       "      <td>11710</td>\n",
       "      <td>9991.0</td>\n",
       "    </tr>\n",
       "  </tbody>\n",
       "</table>\n",
       "</div>"
      ],
      "text/plain": [
       "     AREA NAME AREA CODE DISTRICT NAME  DISTRICT NO  DELIVERY ZIPCODE   \n",
       "4290  ATLANTIC        4B    NEW YORK 2          117             11710  \\\n",
       "4291  ATLANTIC        4B    NEW YORK 2          117             11710   \n",
       "\n",
       "         LOCALE NAME  PHYSICAL DELV ADDR   PHYSICAL CITY PHYSICAL STATE   \n",
       "4290        BELLMORE     2611 MERRICK RD        BELLMORE             NY  \\\n",
       "4291  NORTH BELLMORE  2465 JERUSALEM AVE  NORTH BELLMORE             NY   \n",
       "\n",
       "      PHYSICAL ZIP  PHYSICAL ZIP 4  \n",
       "4290         11710          5752.0  \n",
       "4291         11710          9991.0  "
      ]
     },
     "execution_count": 11,
     "metadata": {},
     "output_type": "execute_result"
    }
   ],
   "source": [
    "ny_zip_codes_df[ny_zip_codes_df[\"PHYSICAL ZIP\"]==11710]"
   ]
  },
  {
   "attachments": {},
   "cell_type": "markdown",
   "metadata": {},
   "source": [
    "Just for fun, I tested it with my own town. The location given appears to be the geometric center of Bellmore, rather than the address of one of its two post offices. That's certainly going to fall within Nassau county. "
   ]
  },
  {
   "cell_type": "code",
   "execution_count": 12,
   "metadata": {},
   "outputs": [
    {
     "data": {
      "text/plain": [
       "Location(Bellmore, Town of Hempstead, Nassau County, 11710, United States, (40.67664607465925, -73.53396529349835, 0.0))"
      ]
     },
     "execution_count": 12,
     "metadata": {},
     "output_type": "execute_result"
    }
   ],
   "source": [
    "result = geocoder.geocode(\"11710\", featuretype=\"postalcode\", addressdetails=True)\n",
    "result"
   ]
  },
  {
   "attachments": {},
   "cell_type": "markdown",
   "metadata": {},
   "source": [
    "We come up with a smaller list by restricting the columns and dropping duplicates. We also make all zipcodes the same length and replace spaces with 0, which we have to do because of Fisher Island. We then run the geocoder on the resulting postcodes. "
   ]
  },
  {
   "cell_type": "code",
   "execution_count": 13,
   "metadata": {},
   "outputs": [],
   "source": [
    "ny_zip_only_df = ny_zip_codes_df[[\"PHYSICAL CITY\", \"LOCALE NAME\", \"DELIVERY ZIPCODE\", \"PHYSICAL ZIP\"]].drop_duplicates()\n",
    "ny_zip_only_df[\"postalcode\"] = ny_zip_only_df[\"PHYSICAL ZIP\"].apply(lambda x: str(int(x)).rjust(5, \"0\"))\n",
    "ny_zip_only_df[\"geocode\"] = ny_zip_only_df[\"postalcode\"].apply(lambda x: geocoder.geocode(query={\"postalcode\": x}))"
   ]
  },
  {
   "attachments": {},
   "cell_type": "markdown",
   "metadata": {},
   "source": [
    "### An Interlude - The Sorrows and Joys of Open Data\n",
    "\n",
    "The surprising thing (perhaps) is that we are missing a fair amount of data. Take one example, for Niobe NY. There wasn't a zipcode associated with the data in Open Street Map (I've added one!). Open Street Map relies on public \"donations\" of data, and it seems that the good people of Niobe may not be aware of the need. We are fortunate that Long Island is very well supported in Open Street Map. If we were looking at a less fortunate area, we might have to invest in a commercial geocoder. "
   ]
  },
  {
   "cell_type": "code",
   "execution_count": 14,
   "metadata": {},
   "outputs": [
    {
     "data": {
      "text/html": [
       "<div>\n",
       "<style scoped>\n",
       "    .dataframe tbody tr th:only-of-type {\n",
       "        vertical-align: middle;\n",
       "    }\n",
       "\n",
       "    .dataframe tbody tr th {\n",
       "        vertical-align: top;\n",
       "    }\n",
       "\n",
       "    .dataframe thead th {\n",
       "        text-align: right;\n",
       "    }\n",
       "</style>\n",
       "<table border=\"1\" class=\"dataframe\">\n",
       "  <thead>\n",
       "    <tr style=\"text-align: right;\">\n",
       "      <th></th>\n",
       "      <th>PHYSICAL CITY</th>\n",
       "      <th>LOCALE NAME</th>\n",
       "      <th>DELIVERY ZIPCODE</th>\n",
       "      <th>PHYSICAL ZIP</th>\n",
       "      <th>postalcode</th>\n",
       "      <th>geocode</th>\n",
       "    </tr>\n",
       "  </thead>\n",
       "  <tbody>\n",
       "    <tr>\n",
       "      <th>3936</th>\n",
       "      <td>MAHOPAC FALLS</td>\n",
       "      <td>MAHOPAC FALLS</td>\n",
       "      <td>10542</td>\n",
       "      <td>10542</td>\n",
       "      <td>10542</td>\n",
       "      <td>None</td>\n",
       "    </tr>\n",
       "    <tr>\n",
       "      <th>3938</th>\n",
       "      <td>MARYKNOLL</td>\n",
       "      <td>MARYKNOLL</td>\n",
       "      <td>10545</td>\n",
       "      <td>10545</td>\n",
       "      <td>10545</td>\n",
       "      <td>None</td>\n",
       "    </tr>\n",
       "    <tr>\n",
       "      <th>3965</th>\n",
       "      <td>SHENOROCK</td>\n",
       "      <td>SHENOROCK</td>\n",
       "      <td>10587</td>\n",
       "      <td>10587</td>\n",
       "      <td>10587</td>\n",
       "      <td>None</td>\n",
       "    </tr>\n",
       "    <tr>\n",
       "      <th>4039</th>\n",
       "      <td>NEW MILFORD</td>\n",
       "      <td>NEW MILFORD</td>\n",
       "      <td>10959</td>\n",
       "      <td>10959</td>\n",
       "      <td>10959</td>\n",
       "      <td>None</td>\n",
       "    </tr>\n",
       "    <tr>\n",
       "      <th>4202</th>\n",
       "      <td>BROOKLYN</td>\n",
       "      <td>OZONE PARK CARRIER ANNEX</td>\n",
       "      <td>11416</td>\n",
       "      <td>11256</td>\n",
       "      <td>11256</td>\n",
       "      <td>None</td>\n",
       "    </tr>\n",
       "    <tr>\n",
       "      <th>...</th>\n",
       "      <td>...</td>\n",
       "      <td>...</td>\n",
       "      <td>...</td>\n",
       "      <td>...</td>\n",
       "      <td>...</td>\n",
       "      <td>...</td>\n",
       "    </tr>\n",
       "    <tr>\n",
       "      <th>5888</th>\n",
       "      <td>NIOBE</td>\n",
       "      <td>NIOBE</td>\n",
       "      <td>14758</td>\n",
       "      <td>14758</td>\n",
       "      <td>14758</td>\n",
       "      <td>None</td>\n",
       "    </tr>\n",
       "    <tr>\n",
       "      <th>5899</th>\n",
       "      <td>SAINT BONAVENTURE</td>\n",
       "      <td>SAINT BONAVENTURE</td>\n",
       "      <td>14778</td>\n",
       "      <td>14778</td>\n",
       "      <td>14778</td>\n",
       "      <td>None</td>\n",
       "    </tr>\n",
       "    <tr>\n",
       "      <th>5906</th>\n",
       "      <td>WEST CLARKSVILLE</td>\n",
       "      <td>WEST CLARKSVILLE</td>\n",
       "      <td>14786</td>\n",
       "      <td>14786</td>\n",
       "      <td>14786</td>\n",
       "      <td>None</td>\n",
       "    </tr>\n",
       "    <tr>\n",
       "      <th>5939</th>\n",
       "      <td>COOPERS PLAINS</td>\n",
       "      <td>COOPERS PLAINS</td>\n",
       "      <td>14827</td>\n",
       "      <td>14827</td>\n",
       "      <td>14827</td>\n",
       "      <td>None</td>\n",
       "    </tr>\n",
       "    <tr>\n",
       "      <th>5960</th>\n",
       "      <td>KANONA</td>\n",
       "      <td>KANONA</td>\n",
       "      <td>14856</td>\n",
       "      <td>14856</td>\n",
       "      <td>14856</td>\n",
       "      <td>None</td>\n",
       "    </tr>\n",
       "  </tbody>\n",
       "</table>\n",
       "<p>77 rows × 6 columns</p>\n",
       "</div>"
      ],
      "text/plain": [
       "          PHYSICAL CITY               LOCALE NAME  DELIVERY ZIPCODE   \n",
       "3936      MAHOPAC FALLS             MAHOPAC FALLS             10542  \\\n",
       "3938          MARYKNOLL                 MARYKNOLL             10545   \n",
       "3965          SHENOROCK                 SHENOROCK             10587   \n",
       "4039        NEW MILFORD               NEW MILFORD             10959   \n",
       "4202           BROOKLYN  OZONE PARK CARRIER ANNEX             11416   \n",
       "...                 ...                       ...               ...   \n",
       "5888              NIOBE                     NIOBE             14758   \n",
       "5899  SAINT BONAVENTURE         SAINT BONAVENTURE             14778   \n",
       "5906   WEST CLARKSVILLE          WEST CLARKSVILLE             14786   \n",
       "5939     COOPERS PLAINS            COOPERS PLAINS             14827   \n",
       "5960             KANONA                    KANONA             14856   \n",
       "\n",
       "      PHYSICAL ZIP postalcode geocode  \n",
       "3936         10542      10542    None  \n",
       "3938         10545      10545    None  \n",
       "3965         10587      10587    None  \n",
       "4039         10959      10959    None  \n",
       "4202         11256      11256    None  \n",
       "...            ...        ...     ...  \n",
       "5888         14758      14758    None  \n",
       "5899         14778      14778    None  \n",
       "5906         14786      14786    None  \n",
       "5939         14827      14827    None  \n",
       "5960         14856      14856    None  \n",
       "\n",
       "[77 rows x 6 columns]"
      ]
     },
     "execution_count": 14,
     "metadata": {},
     "output_type": "execute_result"
    }
   ],
   "source": [
    "ny_zip_only_df[ny_zip_only_df.geocode.isnull()]"
   ]
  },
  {
   "attachments": {},
   "cell_type": "markdown",
   "metadata": {},
   "source": [
    "For now, we drop any records that were not geocoded successfully and apply a function to the rest to get a 2-dimensional point. "
   ]
  },
  {
   "cell_type": "code",
   "execution_count": 15,
   "metadata": {},
   "outputs": [],
   "source": [
    "from shapely.geometry import Point\n",
    "\n",
    "ny_zip_geocoded_df = ny_zip_only_df.dropna().copy()\n",
    "ny_zip_geocoded_df[\"Point\"] = ny_zip_geocoded_df[\"geocode\"].apply(lambda x: Point(x.longitude, x.latitude))"
   ]
  },
  {
   "attachments": {},
   "cell_type": "markdown",
   "metadata": {},
   "source": [
    "We build a GeoPandas dataframe from the data. "
   ]
  },
  {
   "cell_type": "code",
   "execution_count": 16,
   "metadata": {},
   "outputs": [],
   "source": [
    "ny_zip_geocoded_gdf = gpd.GeoDataFrame(ny_zip_geocoded_df, geometry=ny_zip_geocoded_df[\"Point\"], crs=4326)"
   ]
  },
  {
   "attachments": {},
   "cell_type": "markdown",
   "metadata": {},
   "source": [
    "With our data in a dataframe, we can plot these zip code positions using Kepler. The picture looks an awful lot like NY!"
   ]
  },
  {
   "cell_type": "code",
   "execution_count": 17,
   "metadata": {},
   "outputs": [
    {
     "name": "stdout",
     "output_type": "stream",
     "text": [
      "User Guide: https://docs.kepler.gl/docs/keplergl-jupyter\n"
     ]
    },
    {
     "data": {
      "application/vnd.jupyter.widget-view+json": {
       "model_id": "e7056f8be747455b829eaaa149f4c3a7",
       "version_major": 2,
       "version_minor": 0
      },
      "text/plain": [
       "KeplerGl(data={'unnamed': {'index': [2518, 3738, 3739, 3740, 3741, 3742, 3743, 3744, 3745, 3746, 3747, 3748, 3…"
      ]
     },
     "metadata": {},
     "output_type": "display_data"
    }
   ],
   "source": [
    "from keplergl import KeplerGl\n",
    "ny_map = KeplerGl(height=800)\n",
    "ny_map.add_data(ny_zip_geocoded_gdf[[\"LOCALE NAME\", \"geometry\"]])\n",
    "ny_map"
   ]
  },
  {
   "attachments": {},
   "cell_type": "markdown",
   "metadata": {},
   "source": [
    "We can now do a spatial join between the polygons representing Nassau and Suffolk counties, and the points (longitude and latitude) returned by our geocoder. This operation is written in GeoPandas and is fairly efficient, at least for this relatively small amount of data. "
   ]
  },
  {
   "cell_type": "code",
   "execution_count": 18,
   "metadata": {},
   "outputs": [],
   "source": [
    "long_island_zipcodes_df = gpd.sjoin(ny_zip_geocoded_gdf, long_island_gdf, predicate=\"within\")"
   ]
  },
  {
   "attachments": {},
   "cell_type": "markdown",
   "metadata": {},
   "source": [
    "Bellmore only has one entry in the list, as we might expect. It is within Nassau County, which is a relief. "
   ]
  },
  {
   "cell_type": "code",
   "execution_count": 20,
   "metadata": {},
   "outputs": [
    {
     "data": {
      "text/html": [
       "<div>\n",
       "<style scoped>\n",
       "    .dataframe tbody tr th:only-of-type {\n",
       "        vertical-align: middle;\n",
       "    }\n",
       "\n",
       "    .dataframe tbody tr th {\n",
       "        vertical-align: top;\n",
       "    }\n",
       "\n",
       "    .dataframe thead th {\n",
       "        text-align: right;\n",
       "    }\n",
       "</style>\n",
       "<table border=\"1\" class=\"dataframe\">\n",
       "  <thead>\n",
       "    <tr style=\"text-align: right;\">\n",
       "      <th></th>\n",
       "      <th>PHYSICAL CITY</th>\n",
       "      <th>LOCALE NAME</th>\n",
       "      <th>DELIVERY ZIPCODE</th>\n",
       "      <th>PHYSICAL ZIP</th>\n",
       "      <th>postalcode</th>\n",
       "      <th>geocode</th>\n",
       "      <th>Point</th>\n",
       "      <th>geometry</th>\n",
       "      <th>index_right</th>\n",
       "      <th>NAME</th>\n",
       "      <th>...</th>\n",
       "      <th>POP2000</th>\n",
       "      <th>POP2010</th>\n",
       "      <th>POP2020</th>\n",
       "      <th>DOS_LL</th>\n",
       "      <th>DOSLL_DATE</th>\n",
       "      <th>NYC</th>\n",
       "      <th>CALC_SQ_MI</th>\n",
       "      <th>DATEMOD</th>\n",
       "      <th>Shape_Leng</th>\n",
       "      <th>Shape_Area</th>\n",
       "    </tr>\n",
       "  </thead>\n",
       "  <tbody>\n",
       "    <tr>\n",
       "      <th>4290</th>\n",
       "      <td>BELLMORE</td>\n",
       "      <td>BELLMORE</td>\n",
       "      <td>11710</td>\n",
       "      <td>11710</td>\n",
       "      <td>11710</td>\n",
       "      <td>(Bellmore, Town of Hempstead, Nassau County, 1...</td>\n",
       "      <td>POINT (-73.53396529349835 40.67664607465925)</td>\n",
       "      <td>POINT (-73.53397 40.67665)</td>\n",
       "      <td>29</td>\n",
       "      <td>Nassau</td>\n",
       "      <td>...</td>\n",
       "      <td>1334544</td>\n",
       "      <td>1339532</td>\n",
       "      <td>1395774</td>\n",
       "      <td>NaN</td>\n",
       "      <td>NaN</td>\n",
       "      <td>N</td>\n",
       "      <td>446.637468</td>\n",
       "      <td>2018-04-12</td>\n",
       "      <td>168031.844843</td>\n",
       "      <td>1.156786e+09</td>\n",
       "    </tr>\n",
       "  </tbody>\n",
       "</table>\n",
       "<p>1 rows × 26 columns</p>\n",
       "</div>"
      ],
      "text/plain": [
       "     PHYSICAL CITY LOCALE NAME  DELIVERY ZIPCODE  PHYSICAL ZIP postalcode   \n",
       "4290      BELLMORE    BELLMORE             11710         11710      11710  \\\n",
       "\n",
       "                                                geocode   \n",
       "4290  (Bellmore, Town of Hempstead, Nassau County, 1...  \\\n",
       "\n",
       "                                             Point   \n",
       "4290  POINT (-73.53396529349835 40.67664607465925)  \\\n",
       "\n",
       "                        geometry  index_right    NAME  ...  POP2000  POP2010   \n",
       "4290  POINT (-73.53397 40.67665)           29  Nassau  ...  1334544  1339532  \\\n",
       "\n",
       "      POP2020 DOS_LL DOSLL_DATE  NYC  CALC_SQ_MI     DATEMOD     Shape_Leng   \n",
       "4290  1395774    NaN        NaN    N  446.637468  2018-04-12  168031.844843  \\\n",
       "\n",
       "        Shape_Area  \n",
       "4290  1.156786e+09  \n",
       "\n",
       "[1 rows x 26 columns]"
      ]
     },
     "execution_count": 20,
     "metadata": {},
     "output_type": "execute_result"
    }
   ],
   "source": [
    "long_island_zipcodes_df[long_island_zipcodes_df[\"PHYSICAL CITY\"]=='BELLMORE']"
   ]
  },
  {
   "attachments": {},
   "cell_type": "markdown",
   "metadata": {},
   "source": [
    "We save our list of zipcodes to a file for use in filtering the Federal Election data in our next notebook!"
   ]
  },
  {
   "cell_type": "code",
   "execution_count": 21,
   "metadata": {},
   "outputs": [],
   "source": [
    "long_island_zipcodes_df[\"address\"] = long_island_zipcodes_df[\"geocode\"].apply(lambda x: x.address)\n",
    "long_island_zipcodes_df[\"locality\"] = long_island_zipcodes_df[\"address\"].apply(lambda x: x.split(\",\")[0])\n",
    "long_island_zipcodes_df = long_island_zipcodes_df.rename(columns={\"NAME\": \"County\"})\n",
    "long_island_zipcodes_df = long_island_zipcodes_df[[\"County\", \"address\", \"locality\", \"postalcode\", \"PHYSICAL ZIP\", \"Point\"]].drop_duplicates()\n",
    "long_island_zipcodes_gdf = gpd.GeoDataFrame(long_island_zipcodes_df.drop(\"Point\", axis=\"columns\"), geometry=long_island_zipcodes_df[\"Point\"])\n",
    "long_island_zipcodes_gdf.to_file(\"../references/long_island_zipcodes.geojson\", driver=\"GeoJSON\")"
   ]
  },
  {
   "attachments": {},
   "cell_type": "markdown",
   "metadata": {},
   "source": [
    "We can confirm that the zip codes are on Long Island using Kepler. "
   ]
  },
  {
   "cell_type": "code",
   "execution_count": 23,
   "metadata": {},
   "outputs": [
    {
     "name": "stdout",
     "output_type": "stream",
     "text": [
      "User Guide: https://docs.kepler.gl/docs/keplergl-jupyter\n"
     ]
    },
    {
     "data": {
      "application/vnd.jupyter.widget-view+json": {
       "model_id": "f04f6812fc2e43d7ba8b144ec6f764b3",
       "version_major": 2,
       "version_minor": 0
      },
      "text/plain": [
       "KeplerGl(data={'unnamed': {'index': [2518, 4280, 4281, 4282, 4283, 4285, 4286, 4292, 4294, 4295, 4296, 4297, 4…"
      ]
     },
     "metadata": {},
     "output_type": "display_data"
    }
   ],
   "source": [
    "from keplergl import KeplerGl\n",
    "li_zip_map = KeplerGl(height=800)\n",
    "li_zip_map.add_data(long_island_zipcodes_gdf)\n",
    "li_zip_map"
   ]
  },
  {
   "cell_type": "code",
   "execution_count": null,
   "metadata": {},
   "outputs": [],
   "source": []
  }
 ],
 "metadata": {
  "kernelspec": {
   "display_name": ".venv",
   "language": "python",
   "name": "python3"
  },
  "language_info": {
   "codemirror_mode": {
    "name": "ipython",
    "version": 3
   },
   "file_extension": ".py",
   "mimetype": "text/x-python",
   "name": "python",
   "nbconvert_exporter": "python",
   "pygments_lexer": "ipython3",
   "version": "3.10.9"
  },
  "orig_nbformat": 4,
  "vscode": {
   "interpreter": {
    "hash": "df910395cc413df7aae2ff0bdd27dad0b30cac9664131e33d846155d5f5a977f"
   }
  }
 },
 "nbformat": 4,
 "nbformat_minor": 2
}
